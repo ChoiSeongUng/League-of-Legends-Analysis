{
  "nbformat": 4,
  "nbformat_minor": 0,
  "metadata": {
    "accelerator": "GPU",
    "colab": {
      "name": "Untitled6.ipynb",
      "provenance": [],
      "collapsed_sections": []
    },
    "kernelspec": {
      "display_name": "Python 3",
      "name": "python3"
    }
  },
  "cells": [
    {
      "cell_type": "code",
      "metadata": {
        "id": "Xl7h1W68dFXM",
        "colab": {
          "base_uri": "https://localhost:8080/"
        },
        "outputId": "93468ece-e621-4bbd-d54b-a165e7c9620a"
      },
      "source": [
        "!pip install bert-tensorflow\n",
        "!pip install transformers"
      ],
      "execution_count": null,
      "outputs": [
        {
          "output_type": "stream",
          "text": [
            "Collecting bert-tensorflow\n",
            "\u001b[?25l  Downloading https://files.pythonhosted.org/packages/20/16/0f9376af49c6adcfbaf2470a8f500105a74dd803aa54ac0110af445837b5/bert_tensorflow-1.0.4-py2.py3-none-any.whl (64kB)\n",
            "\r\u001b[K     |█████                           | 10kB 28.2MB/s eta 0:00:01\r\u001b[K     |██████████▏                     | 20kB 12.6MB/s eta 0:00:01\r\u001b[K     |███████████████▎                | 30kB 12.6MB/s eta 0:00:01\r\u001b[K     |████████████████████▍           | 40kB 11.9MB/s eta 0:00:01\r\u001b[K     |█████████████████████████▍      | 51kB 7.2MB/s eta 0:00:01\r\u001b[K     |██████████████████████████████▌ | 61kB 7.6MB/s eta 0:00:01\r\u001b[K     |████████████████████████████████| 71kB 5.3MB/s \n",
            "\u001b[?25hRequirement already satisfied: six in /usr/local/lib/python3.6/dist-packages (from bert-tensorflow) (1.15.0)\n",
            "Installing collected packages: bert-tensorflow\n",
            "Successfully installed bert-tensorflow-1.0.4\n"
          ],
          "name": "stdout"
        }
      ]
    },
    {
      "cell_type": "code",
      "metadata": {
        "id": "GQkReqfUdJ75"
      },
      "source": [
        "# Importing the libraries\n",
        "import pandas as pd\n",
        "import numpy as np\n",
        "import seaborn as sns\n",
        "import matplotlib.pyplot as plt\n",
        "import warnings\n",
        "import string\n",
        "import nltk \n",
        "from nltk.corpus import stopwords\n",
        "from tqdm import tqdm\n",
        "from nltk.stem import PorterStemmer\n",
        "import re\n",
        "import os\n",
        "import sys\n",
        "import json\n",
        "import tensorflow_hub as hub\n",
        "import tensorflow as tf\n",
        "import bert\n",
        "from bert import tokenization\n",
        "FullTokenizer = bert.tokenization.FullTokenizer\n",
        "import argparse\n",
        "from transformers import BertTokenizer\n",
        "from tensorflow.keras.models import Model\n",
        "from bert import optimization\n",
        "%matplotlib inline"
      ],
      "execution_count": null,
      "outputs": []
    },
    {
      "cell_type": "code",
      "metadata": {
        "id": "obQsZnTcdPAw",
        "colab": {
          "base_uri": "https://localhost:8080/"
        },
        "outputId": "f37ea6d2-d3f9-49c4-96e6-4ad1e6ff83c4"
      },
      "source": [
        "from google.colab import drive\n",
        "drive.mount('/content/drive')"
      ],
      "execution_count": null,
      "outputs": [
        {
          "output_type": "stream",
          "text": [
            "Mounted at /content/drive\n"
          ],
          "name": "stdout"
        }
      ]
    },
    {
      "cell_type": "code",
      "metadata": {
        "id": "MHg9SxqUdXpt"
      },
      "source": [
        "os.chdir('/content/drive/My Drive')"
      ],
      "execution_count": null,
      "outputs": []
    },
    {
      "cell_type": "code",
      "metadata": {
        "id": "5k1sGyowdZ1W",
        "colab": {
          "base_uri": "https://localhost:8080/"
        },
        "outputId": "04234841-0f92-41ae-f049-22e75cc9df46"
      },
      "source": [
        "data = pd.read_csv(\"open/train.csv\")\n",
        "test = pd.read_csv(\"open/test_x.csv\")\n",
        "\n",
        "print(\"Size of the data : \", data.shape)\n",
        "print(\"Size of the Test data : \", test.shape)\n",
        "# there are 54879 texts"
      ],
      "execution_count": null,
      "outputs": [
        {
          "output_type": "stream",
          "text": [
            "Size of the data :  (54879, 3)\n",
            "Size of the Test data :  (19617, 2)\n"
          ],
          "name": "stdout"
        }
      ]
    },
    {
      "cell_type": "code",
      "metadata": {
        "id": "nGkAVqaCdcuU",
        "colab": {
          "base_uri": "https://localhost:8080/",
          "height": 343
        },
        "outputId": "c3ec3f4f-7798-4644-bc0c-a672b6a1301a"
      },
      "source": [
        "data.head(10)"
      ],
      "execution_count": null,
      "outputs": [
        {
          "output_type": "execute_result",
          "data": {
            "text/html": [
              "<div>\n",
              "<style scoped>\n",
              "    .dataframe tbody tr th:only-of-type {\n",
              "        vertical-align: middle;\n",
              "    }\n",
              "\n",
              "    .dataframe tbody tr th {\n",
              "        vertical-align: top;\n",
              "    }\n",
              "\n",
              "    .dataframe thead th {\n",
              "        text-align: right;\n",
              "    }\n",
              "</style>\n",
              "<table border=\"1\" class=\"dataframe\">\n",
              "  <thead>\n",
              "    <tr style=\"text-align: right;\">\n",
              "      <th></th>\n",
              "      <th>index</th>\n",
              "      <th>text</th>\n",
              "      <th>author</th>\n",
              "    </tr>\n",
              "  </thead>\n",
              "  <tbody>\n",
              "    <tr>\n",
              "      <th>0</th>\n",
              "      <td>0</td>\n",
              "      <td>He was almost choking. There was so much, so m...</td>\n",
              "      <td>3</td>\n",
              "    </tr>\n",
              "    <tr>\n",
              "      <th>1</th>\n",
              "      <td>1</td>\n",
              "      <td>“Your sister asked for it, I suppose?”</td>\n",
              "      <td>2</td>\n",
              "    </tr>\n",
              "    <tr>\n",
              "      <th>2</th>\n",
              "      <td>2</td>\n",
              "      <td>She was engaged one day as she walked, in per...</td>\n",
              "      <td>1</td>\n",
              "    </tr>\n",
              "    <tr>\n",
              "      <th>3</th>\n",
              "      <td>3</td>\n",
              "      <td>The captain was in the porch, keeping himself ...</td>\n",
              "      <td>4</td>\n",
              "    </tr>\n",
              "    <tr>\n",
              "      <th>4</th>\n",
              "      <td>4</td>\n",
              "      <td>“Have mercy, gentlemen!” odin flung up his han...</td>\n",
              "      <td>3</td>\n",
              "    </tr>\n",
              "    <tr>\n",
              "      <th>5</th>\n",
              "      <td>5</td>\n",
              "      <td>\"It was well fought,\" he said, \"and, by my soo...</td>\n",
              "      <td>4</td>\n",
              "    </tr>\n",
              "    <tr>\n",
              "      <th>6</th>\n",
              "      <td>6</td>\n",
              "      <td>Not to pay him was impossible, considering his...</td>\n",
              "      <td>3</td>\n",
              "    </tr>\n",
              "    <tr>\n",
              "      <th>7</th>\n",
              "      <td>7</td>\n",
              "      <td>“A proper figure of a man at-arms,” said the l...</td>\n",
              "      <td>2</td>\n",
              "    </tr>\n",
              "    <tr>\n",
              "      <th>8</th>\n",
              "      <td>8</td>\n",
              "      <td>'You were not here last Sunday night,' he said.</td>\n",
              "      <td>0</td>\n",
              "    </tr>\n",
              "    <tr>\n",
              "      <th>9</th>\n",
              "      <td>9</td>\n",
              "      <td>“You must not ask me that!” I cried. “Hell may...</td>\n",
              "      <td>4</td>\n",
              "    </tr>\n",
              "  </tbody>\n",
              "</table>\n",
              "</div>"
            ],
            "text/plain": [
              "   index                                               text  author\n",
              "0      0  He was almost choking. There was so much, so m...       3\n",
              "1      1             “Your sister asked for it, I suppose?”       2\n",
              "2      2   She was engaged one day as she walked, in per...       1\n",
              "3      3  The captain was in the porch, keeping himself ...       4\n",
              "4      4  “Have mercy, gentlemen!” odin flung up his han...       3\n",
              "5      5  \"It was well fought,\" he said, \"and, by my soo...       4\n",
              "6      6  Not to pay him was impossible, considering his...       3\n",
              "7      7  “A proper figure of a man at-arms,” said the l...       2\n",
              "8      8    'You were not here last Sunday night,' he said.       0\n",
              "9      9  “You must not ask me that!” I cried. “Hell may...       4"
            ]
          },
          "metadata": {
            "tags": []
          },
          "execution_count": 6
        }
      ]
    },
    {
      "cell_type": "code",
      "metadata": {
        "id": "5t5tkpXQdeeu"
      },
      "source": [
        "max_seq_length = 212\n",
        "input_word_ids = tf.keras.layers.Input(shape =(max_seq_length,), dtype = tf.int32,\n",
        "                                       name=\"input_word_ids\")\n",
        "input_mask = tf.keras.layers.Input(shape =(max_seq_length,), dtype=tf.int32,\n",
        "                                   name = \"input_mask\")\n",
        "segment_ids = tf.keras.layers.Input(shape =(max_seq_length,),dtype =tf.int32,\n",
        "                                  name = \"segment_ids\")\n",
        "bert_layer = hub.KerasLayer(\"https://tfhub.dev/tensorflow/bert_en_uncased_L-12_H-768_A-12/1\",\n",
        "                            trainable = True)\n",
        "pooled_output, sequence_output = bert_layer([input_word_ids,input_mask,segment_ids])\n",
        "\n",
        "model = Model(inputs=[input_word_ids,input_mask,segment_ids],outputs=[pooled_output,sequence_output])\n"
      ],
      "execution_count": null,
      "outputs": []
    },
    {
      "cell_type": "code",
      "metadata": {
        "id": "4utFeXa2fBpI"
      },
      "source": [
        "def get_masks(tokens, max_seq_length):\n",
        "  \"\"\"Mask for padding\"\"\"\n",
        "  if len(tokens) > max_seq_length:\n",
        "    raise IndexError(\"Token length more than max seq length!\")\n",
        "  return [1]*len(tokens) + [0]*(max_seq_length-len(tokens))\n",
        "\n",
        "def get_segments(tokens, max_seq_length):\n",
        "  \"\"\"segments:0 for the first sequence, 1 for the second\"\"\"\n",
        "  if len(tokens) > max_seq_length:\n",
        "    raise IndexError(\"Token length more than max seq length!\")\n",
        "  segments = []\n",
        "  current_segment_id = 0\n",
        "  for token in tokens:\n",
        "    segments.append(current_segment_id)\n",
        "    if token == \"[SEP]\":\n",
        "      current_segment_id = 1\n",
        "  return segments+ [0] * (max_seq_length - len(tokens))\n",
        "\n",
        "\n",
        "def get_ids(tokens, tokenizer, max_seq_length):\n",
        "  \"\"\"Token ids form Tokenizer vocab\"\"\"\n",
        "  token_ids = tokenizer.convert_tokens_to_ids(tokens)\n",
        "  input_ids = token_ids + [0] * (max_seq_length - len(token_ids))\n",
        "  return input_ids\n",
        "  "
      ],
      "execution_count": null,
      "outputs": []
    },
    {
      "cell_type": "code",
      "metadata": {
        "id": "UvC1e-Mg6yaJ"
      },
      "source": [
        "tokenizer = BertTokenizer.from_pretrained(\"bert-base-cased\")\n",
        "s  = data['text'][0]\n",
        "stokens = tokenizer.tokenize(s)\n",
        "stokens = [\"[CLS]\"] + stokens + [\"[SEP]\"]\n",
        "\n",
        "input_ids =  np.asarray(get_ids(stokens, tokenizer, max_seq_length))\n",
        "input_masks = np.asarray(get_masks(stokens, max_seq_length))\n",
        "input_segments = np.asarray(get_segments(stokens, max_seq_length))\n",
        "\n",
        "pool_embs, all_embs = model.predict([input_ids,input_masks,input_segments])"
      ],
      "execution_count": null,
      "outputs": []
    },
    {
      "cell_type": "code",
      "metadata": {
        "colab": {
          "base_uri": "https://localhost:8080/"
        },
        "id": "N4EfHCbm_I2v",
        "outputId": "89681072-7c55-408d-c71d-8309f996130e"
      },
      "source": [
        "len(all_embs)"
      ],
      "execution_count": null,
      "outputs": [
        {
          "output_type": "execute_result",
          "data": {
            "text/plain": [
              "212"
            ]
          },
          "metadata": {
            "tags": []
          },
          "execution_count": 56
        }
      ]
    },
    {
      "cell_type": "code",
      "metadata": {
        "id": "1TsaCYfG-neC"
      },
      "source": [
        "tz = BertTokenizer.from_pretrained(\"bert-base-cased\")\n",
        "stokens = tz.tokenize(s)"
      ],
      "execution_count": null,
      "outputs": []
    },
    {
      "cell_type": "code",
      "metadata": {
        "id": "3WFzno0plkM-"
      },
      "source": [
        "stokens"
      ],
      "execution_count": null,
      "outputs": []
    }
  ]
}